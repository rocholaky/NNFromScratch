{
 "cells": [
  {
   "cell_type": "code",
   "execution_count": 32,
   "metadata": {},
   "outputs": [],
   "source": [
    "import numpy as np \n",
    "import matplotlib.pyplot as plt\n",
    "import pandas as pd\n",
    "from sklearn import datasets"
   ]
  },
  {
   "cell_type": "code",
   "execution_count": 33,
   "metadata": {},
   "outputs": [],
   "source": [
    "def OneHotEncode(target_labels):\n",
    "    '''\n",
    "    OneHotEncode function is a function generated to encode label matrices into One hot encoding vectors.\n",
    "    The idea is turn the matrix into a (M, c) matrix where M is the number of samples and c is the amount of possible labels.\n",
    "    '''\n",
    "    # turn the vector into a list:\n",
    "    labels = target_labels.tolist()\n",
    "    # get the number of classes\n",
    "    classification_set = set(labels)\n",
    "    n_C = len(classification_set)\n",
    "\n",
    "    # Loop over the clasification clases in order to generate the expected one hot encodings for each one.\n",
    "    for index, value in enumerate(classification_set):\n",
    "        zero = np.zeros((1, n_C))\n",
    "        if index == 0:\n",
    "            zero[:,index] = 1\n",
    "            one_hot_classes[value]= zero \n",
    "        else:\n",
    "            zero[:,index] = 1\n",
    "            one_hot_classes[value]= zero\n",
    "\n",
    "    #Loop over the values in order to turn each label into a one hot encoded vector\n",
    "    for i, example in enumerate(labels):\n",
    "        labels[i] = one_hot_classes[example]\n",
    "    labels = np.vstack(labels)\n",
    "    return labels"
   ]
  },
  {
   "cell_type": "code",
   "execution_count": 34,
   "metadata": {},
   "outputs": [],
   "source": [
    "#Train-Test split: generates training and test set with a 80% and 20% respectively from the dataset:\n",
    "def cross_validation_set(X, Y): \n",
    "    #get the number of samples\n",
    "    M= X.shape[0]\n",
    "    #shuffle the matrix in order to get a random order of samples\n",
    "    permutation = np.random.permutation(M)\n",
    "    X_shuffled = X[permutation]\n",
    "    Y_shuffled = Y[permutation]\n",
    "    \n",
    "    #extract 80% for training set and 20% for test set. \n",
    "    train_limit = int(M*0.8)\n",
    "    X_train = X_shuffled[:train_limit]\n",
    "    Y_train = Y_shuffled[:train_limit]\n",
    "    X_test = X_shuffled[train_limit:]\n",
    "    Y_testing = Y_shuffled[train_limit:]\n",
    "    return X_train, Y_train, X_test, Y_testing"
   ]
  },
  {
   "attachments": {},
   "cell_type": "markdown",
   "metadata": {},
   "source": [
    "#  Dataset Iris"
   ]
  },
  {
   "attachments": {},
   "cell_type": "markdown",
   "metadata": {},
   "source": [
    "The Iris dataset is a popular multivariate dataset that was introduced by the British statistician and biologist Ronald Fisher in 1936. It contains measurements of 150 samples of iris flowers from three different species: Iris setosa, Iris versicolor, and Iris virginica. Each sample contains measurements of four different features: sepal length, sepal width, petal length, and petal width, all measured in centimeters\n",
    "\n",
    "The dataset is often used in machine learning and pattern recognition research as a benchmark dataset due to its simplicity and accessibility. Thats why in order to show the working neural network we are going to use this dataset, and show the results on its predictions."
   ]
  },
  {
   "cell_type": "code",
   "execution_count": 35,
   "metadata": {},
   "outputs": [],
   "source": [
    "iris = datasets.load_iris()\n",
    "data = iris.data\n",
    "labels = iris.target"
   ]
  },
  {
   "cell_type": "code",
   "execution_count": 36,
   "metadata": {},
   "outputs": [],
   "source": [
    "labels = OneHotEncode(labels)"
   ]
  },
  {
   "cell_type": "code",
   "execution_count": 37,
   "metadata": {},
   "outputs": [
    {
     "name": "stdout",
     "output_type": "stream",
     "text": [
      "X shape:  (150, 4) \n",
      "Y shape (150, 3)\n"
     ]
    }
   ],
   "source": [
    "print(\"X shape: \", data.shape, \"\\nY shape\", labels.shape)"
   ]
  },
  {
   "attachments": {},
   "cell_type": "markdown",
   "metadata": {},
   "source": [
    "# Data Normalization: \n",
    "It is known that one way to achieve faster training is by using normalization of input data. This is because normalized data allows for a more uniform optimization region, which in turn allows the gradient descent method to be faster, as the gradients allow for a more direct movement towards the minima. The next two code blocks use two well-known normalization methods."
   ]
  },
  {
   "attachments": {},
   "cell_type": "markdown",
   "metadata": {},
   "source": [
    "# Method 1 Z-score: \n",
    "Normalization of data using the mean $\\mu$ and the standrd deviation $\\sigma$:\n",
    "This is the typical formula for data normalization in statistics that allows data to be transformed from its distribution to a standard normal distribution (0, 1). Since the data has its own distribution in each coordinate, the mean and standard deviation are calculated among all examples for each coordinate, and then subtracted from the data. The formula is used for each coordinate as follows:\n",
    "\n",
    "$$Z_{i} = \\frac{x_{i}-\\mu}{\\sigma^{2}}$$\n",
    "\n",
    "This allows the data to cluster around $[-1, 1]$ with a probability of 0.66. The main difference with the other method is that it does not guarantee that the value will be between 0 and 1, but rather that most of them will be."
   ]
  },
  {
   "cell_type": "code",
   "execution_count": 38,
   "metadata": {},
   "outputs": [],
   "source": [
    "def mean_normalization(data):\n",
    "    mu_data = np.mean(data, axis= 0, keepdims = True)\n",
    "    std_data = np.std(data, axis = 0, keepdims = True)\n",
    "    print('shape de la media ' + str(mu_data.shape))\n",
    "    print('shape de la desviación estandard '+str(std_data.shape))\n",
    "    #data Normalization: \n",
    "    return (data-mu_data)/np.square(std_data)"
   ]
  },
  {
   "attachments": {},
   "cell_type": "markdown",
   "metadata": {},
   "source": [
    "# Método Número 2: \n",
    "This normalization method uses the maximum and minimum values on each coordinate to reescale the inputs. The values of the dataset get restricted to the $[0, 1]$ interval. This type of method is sensible to outliers because the minimum and maximum operations do not consider the rest of the values (as the mean would do). So if the maximum or minimum values are outliers in the data, the scaling method will not help learning. \n",
    "\n",
    "$$Z_{i} = \\frac{x_{i}-min}{max - min}$$"
   ]
  },
  {
   "cell_type": "code",
   "execution_count": 39,
   "metadata": {},
   "outputs": [],
   "source": [
    "def max_min_normalization(data):\n",
    "    data_max = np.max(data, axis=0)\n",
    "    data_min = np.min(data, axis=0)\n",
    "    return (data-data_min)/(data_max-data_min)"
   ]
  },
  {
   "cell_type": "code",
   "execution_count": 40,
   "metadata": {},
   "outputs": [],
   "source": [
    "## Activation function generation \n",
    "#tanh function\n",
    "def tanh(X):\n",
    "    exp = np.exp(X)\n",
    "    exp_ = np.exp(-1*X)\n",
    "    tanh = (exp-exp_)/(exp+exp_)\n",
    "    return tanh\n",
    "\n",
    "#softmax function: \n",
    "def softmax(X):\n",
    "    exp = np.exp(X, dtype= np.float64)\n",
    "    sum_exp = np.sum(exp, axis=1)\n",
    "    sum_exp = np.expand_dims(sum_exp, -1)\n",
    "    # constant term is summed to avoid infinity.\n",
    "    return exp/(sum_exp+0.002)\n",
    "\n",
    "#ReLU:\n",
    "def relu(x):\n",
    "    return np.where(x>0, x, 0)\n",
    "\n",
    "# Derivative Functions:\n",
    "# Tanh Derivative:\n",
    "def dtanh(x):\n",
    "    return 1 - np.square(tanh(x))\n",
    "\n",
    "#ReLU derivative:\n",
    "def drelu(x):\n",
    "    return np.where(x>=0, 1, 0)\n",
    "\n",
    "\n",
    "# MLP Class: \n",
    "class MLP:\n",
    "    def __init__(self, X, Y, n_layers, n_hidden_units, named_labels, activation='tanh'):\n",
    "        # Neural Network, dictionary in order to save derivatives, forward:\n",
    "        #pesos:\n",
    "        W = dict()\n",
    "        #bias\n",
    "        b = dict()\n",
    "        #Z = WX+b derivative\n",
    "        dZ = dict()\n",
    "        # weight derivative\n",
    "        dW = dict()\n",
    "        # bias derivative\n",
    "        db = dict()\n",
    "        # forward  values A = f(Z)\n",
    "        A_cache = dict()\n",
    "        # forward Z values.\n",
    "        Z_cache = dict()\n",
    "        \n",
    "        # activation functions are stored\n",
    "        self.__activation__ = activation\n",
    "        # generated labels (Confusion Matrix)\n",
    "        self.named_labels = named_labels\n",
    "        # Amount of layers\n",
    "        self.n_layers = n_layers\n",
    "        # defined Learning rate\n",
    "        self.learning_rate = 0.1\n",
    "        \n",
    "        # Generate Weight values:\n",
    "        first_shape = X.shape[1]\n",
    "        # Amount of hiddent units:\n",
    "        second_shape = n_hidden_units\n",
    "        for layer in range(n_layers):\n",
    "            # user can choose between tanh and ReLU:\n",
    "            if activation == 'tanh':\n",
    "                W['W'+str(layer+1)] = (1/np.sqrt(second_shape))*np.random.rand(first_shape, second_shape)\n",
    "            elif activation == 'relu':\n",
    "                W['W'+str(layer+1)] = (1/np.sqrt(second_shape))*np.random.rand(first_shape, second_shape)\n",
    "            else:\n",
    "                raise Exception('Only tanh or relu activation functions work. Use those instead')\n",
    "            b['b'+str(layer+1)] = np.zeros((1,second_shape))\n",
    "            first_shape = second_shape\n",
    "        W['W'+str(self.n_layers+1)] = (2/np.sqrt(second_shape))*np.random.rand(n_hidden_units, Y.shape[1])\n",
    "        b['b'+str(self.n_layers+1)] = np.zeros((1, Y.shape[1]))\n",
    "        # parameter Dictionary\n",
    "        self.parameters = dict()\n",
    "        self.parameters['W'] = W\n",
    "        self.parameters['b'] = b\n",
    "        self.parameters['dZ'] = dZ\n",
    "        self.parameters['dW'] = dW\n",
    "        self.parameters['db'] = db\n",
    "        self.parameters['A_cache'] = A_cache\n",
    "        self.parameters['Z_cache'] = Z_cache\n",
    "    \n",
    "    def forwardPass(self, X, parameters):\n",
    "        W = parameters['W']\n",
    "        b = parameters['b']\n",
    "        A_cache = dict()\n",
    "        Z_cache = dict()\n",
    "        In = X \n",
    "        # the input is saved in A dictionary, we will use it later for BP\n",
    "        A_cache['A0']= X\n",
    "        #we loop through layers:\n",
    "        for layer in range(self.n_layers):\n",
    "            # generate  Z: Wx+b\n",
    "            Z = np.dot(In, W['W'+str(layer+1)])+b['b'+str(layer+1)]\n",
    "            # save Z in the dictionary, we will use it later for BP:\n",
    "            Z_cache['Z'+str(layer+1)] = Z \n",
    "            if self.__activation__ == 'tanh':\n",
    "                A = tanh(Z)\n",
    "            else:\n",
    "                A = relu(Z)\n",
    "            # We save A in the dictionary for BP calculation\n",
    "            A_cache['A'+str(layer+1)] = A\n",
    "            In = A\n",
    "        # Calculate the output layer\n",
    "        Z = np.dot(In, W['W'+str(self.n_layers+1)])+b['b'+str(self.n_layers+1)]\n",
    "        Z_cache['Z'+str(self.n_layers+1)] = Z \n",
    "        # Calculate the prediction of the model\n",
    "        Y_pred = softmax(Z) \n",
    "        \n",
    "        \n",
    "        # generate another dictionary to avoid mutation\n",
    "        model_parameters = dict()\n",
    "        model_parameters['W'] = W\n",
    "        model_parameters['b'] = b\n",
    "        model_parameters['dW'] = parameters['dW']\n",
    "        model_parameters['db'] = parameters['db']\n",
    "        model_parameters['dZ'] = parameters['dZ']\n",
    "        model_parameters['A_cache'] = A_cache\n",
    "        model_parameters['Z_cache'] = Z_cache\n",
    "        \n",
    "        return Y_pred, model_parameters \n",
    "    \n",
    "    # Cross entropy loss:\n",
    "    def Loss(self, Y_pred, Y_real):\n",
    "        log_Ypred = np.log(Y_pred+0.000002)\n",
    "        Ylog_Ypred = -Y_real*log_Ypred\n",
    "        L_i = np.sum(Ylog_Ypred, axis= 1)\n",
    "        loss = np.mean(L_i)\n",
    "        return loss\n",
    "        \n",
    "    #Function that given a prediction of the model and a label, calculates the gradients of weights:    \n",
    "    def backPropagation(self, Y_pred, Y, parameters):\n",
    "        W = parameters['W']  \n",
    "        A_cache = parameters['A_cache']\n",
    "        Z_cache = parameters['Z_cache']\n",
    "        dZ = parameters['dZ']\n",
    "        dW = parameters['dW'] \n",
    "        db = parameters['db']\n",
    "        # Save the amount of examples:\n",
    "        M = Y.shape[0]\n",
    "        # Dz has a shape (M, C) where M is the number of examples and  C is the number of classes:\n",
    "        dZ['Z'+str(self.n_layers+1)] = (Y_pred - Y)\n",
    "        # DW for the last layer has the shape (n_[l-1], C) where n_[l-1] is the amount of hidden units of layer l-1 \n",
    "        # and C the number of classes: \n",
    "        # multiply A.T (A Transpose) by dZ to obtain a matrix of shape (n_[l-1], M)X(M, C)= (n_[l-1], C).\n",
    "        dW['W'+str(self.n_layers+1)] = np.dot(A_cache['A'+str(self.n_layers)].T, dZ['Z'+str(self.n_layers+1)])\n",
    "        db['b'+str(self.n_layers+1)] = (1/M)*np.sum(dZ['Z'+str(self.n_layers+1)], axis=0, keepdims=True)\n",
    "        # calculate BP for every layer in reverse (we already calculated the derivatives for the last layer):\n",
    "        for layer in range(self.n_layers, 0, -1):\n",
    "            # dZ[l] has shape (M, n_[l]) and W[l] has shape (n_[l-1], n_l[l]) dZ[l]xW.T has the correct dimensions as\n",
    "            # as dZ[l-1] has shape (M, n[l-1])\n",
    "            if self.__activation__ == 'tanh':\n",
    "                dZ['Z'+str(layer)] = np.dot(dZ['Z'+str(layer+1)], W['W'+str(layer+1)].T)*dtanh(Z_cache['Z'+str(layer)])\n",
    "            else:\n",
    "                dZ['Z'+str(layer)] = np.dot(dZ['Z'+str(layer+1)], W['W'+str(layer+1)].T)*drelu(Z_cache['Z'+str(layer)])\n",
    "            # DW for the  l-th has shape (n_[l-1], n_[l]) we multiply A.T por dZ \n",
    "            # so we get a shape of (n_[l-1], M)X(M, n_[l])= (n_[l-1], C): \n",
    "            dW['W'+str(layer)] = (1/M)*np.dot(A_cache['A'+str(layer-1)].T, dZ['Z'+str(layer)])\n",
    "            db['b'+str(layer)] = (1/M)*np.sum(dZ['Z' + str(layer)], axis=0, keepdims=True)\n",
    "        #save parameters:    \n",
    "        parameters['dZ'] = dZ\n",
    "        parameters['dW'] = dW\n",
    "        parameters['db'] = db\n",
    "        # updates weights\n",
    "        parameters = self.update_parameters(parameters)\n",
    "        return parameters\n",
    "        \n",
    "    \n",
    "    # Function that updates weights of the network\n",
    "    def update_parameters(self, parameters):\n",
    "        W = parameters['W']\n",
    "        b = parameters['b']\n",
    "        dW = parameters['dW'] \n",
    "        db = parameters['db']\n",
    "        for layer in range(1, self.n_layers+1, 1):\n",
    "            #apply gradient descent:\n",
    "            W['W'+str(layer+1)] = W['W'+str(layer+1)]-self.learning_rate*dW['W'+str(layer+1)]\n",
    "            b['b'+str(layer+1)] = b['b'+str(layer+1)]-self.learning_rate*db['b'+str(layer+1)]\n",
    "        parameters['W'] = W\n",
    "        parameters['b'] = b\n",
    "        self.parameters\n",
    "        return parameters\n",
    "        \n",
    "    \n",
    "    # Function that calculates accuracy: \n",
    "    def calc_accuracy(self, Y_pred, Y):\n",
    "        pred = np.expand_dims(np.argmax(Y_pred, axis=-1), -1)\n",
    "        real = np.expand_dims(np.argmax(Y, axis=-1),-1)\n",
    "        acc = np.sum((pred==real))/Y.shape[0]\n",
    "        return acc\n",
    "    \n",
    "    # predict function: predicts the output of the network, does not calculate gradient:\n",
    "    def predict(self, X, parameters):\n",
    "        W = parameters['W']\n",
    "        b = parameters['b']\n",
    "        In = X \n",
    "        for layer in range(self.n_layers):\n",
    "            Z = np.dot(In, W['W'+str(layer+1)])+b['b'+str(layer+1)]\n",
    "            if self.__activation__ == 'tanh':\n",
    "                A = tanh(Z)\n",
    "            elif self.__activation__ == 'relu':\n",
    "                A = relu(Z)\n",
    "            In = A\n",
    "        Z = np.dot(In, W['W'+str(self.n_layers+1)])+b['b'+str(self.n_layers+1)]\n",
    "        Y_pred = softmax(Z) \n",
    "        return Y_pred\n",
    "\n",
    "    # function that computes the confusion matrix:        \n",
    "    def confusion_matrix(self, Y_pred, Y):\n",
    "        real_labels = np.expand_dims(np.argmax(Y, axis=-1),-1)\n",
    "        pred_labels = np.expand_dims(np.argmax(Y_pred, axis=-1), -1)\n",
    "        N_labels = len(self.named_labels)\n",
    "        conf_M = np.zeros((N_labels, N_labels))\n",
    "        for example in range(real_labels.shape[0]):\n",
    "            row = real_labels[example]\n",
    "            column = pred_labels[example]\n",
    "            conf_M[row, column] += 1\n",
    "        conf_M = pd.DataFrame(conf_M, self.named_labels, self.named_labels)\n",
    "        return conf_M\n",
    "        \n",
    "    #Training function (trains the MLP for a given amount of epochs ):\n",
    "    def train(self, X, Y, Epochs, learning_rate):\n",
    "        # get the parameters\n",
    "        parameters = self.parameters\n",
    "        # generate list for losses and acurracies:\n",
    "        training_loss = list()\n",
    "        training_accuracy = list()\n",
    "        \n",
    "        # set learning rate\n",
    "        self.learning_rate= learning_rate\n",
    "        #se separa la data\n",
    "        X_train, Y_train, X_test, Y_test = cross_validation_set(X, Y)\n",
    "        \n",
    "        # loop for a given number of epochs:\n",
    "        for epoch in range(1, Epochs+1):\n",
    "            # generate predictions and calculate caches (Z_cache, A_cache)\n",
    "            Y_pred, parameters = self.forwardPass(X_train, parameters)\n",
    "            \n",
    "            # calculate loss:\n",
    "            train_loss = self.Loss(Y_pred, Y_train)\n",
    "            \n",
    "            # calculate accuracy:\n",
    "            train_acc = self.calc_accuracy(Y_pred, Y_train)\n",
    "            \n",
    "            # add the values to the accuracy and loss lists:\n",
    "            training_loss.append(train_loss)\n",
    "            training_accuracy.append(train_acc)\n",
    "            \n",
    "            # every 100 epochs the values of accuracy and loss:\n",
    "            if epoch%100==0:\n",
    "                print('Epoch {N_epoch} is train loss: {loss}, train accuracy: {accuracy}'.format(N_epoch=epoch, loss=train_loss,\\\n",
    "                                                                                                            accuracy= train_acc))\n",
    "            # update weights  \n",
    "            parameters = self.backPropagation(Y_pred, Y_train, parameters)\n",
    "            \n",
    "        \n",
    "        # predict the values:\n",
    "        Y_pred_test = self.predict(X_test, parameters)\n",
    "        # calculate loss:\n",
    "        testing_loss = self.Loss(Y_pred_test, Y_test)\n",
    "        \n",
    "        # calculate accuracy:\n",
    "        testing_accuracy = self.calc_accuracy(Y_pred_test, Y_test) \n",
    "        \n",
    "        # print the results of training\n",
    "        print('Trainig is done:')\n",
    "        print('the training loss is {loss} and the training accuracy is {acc}'.format(loss = np.mean(training_loss), acc=train_acc))\n",
    "        print('the testing loss is {loss} and the testing accuracy is {acc}'.format(loss = testing_loss, acc= testing_accuracy))\n",
    "        \n",
    "        # plot losses and accuracy per epoch\n",
    "        fig, ax = plt.subplots()\n",
    "        train = ax.plot(range(1, Epochs+1), training_loss, '-b', label='training loss')\n",
    "        ax.set_title('models loss with {epochs} epochs of training'.format(epochs=Epochs))\n",
    "        ax.set_xlabel('Epochs')\n",
    "        ax.set_ylabel('loss')\n",
    "        ax.set_ylim([0,5])\n",
    "        plt.show()\n",
    "\n",
    "        fig, ax = plt.subplots()\n",
    "        train = ax.plot(range(1, Epochs+1), training_accuracy, '-b', label='training accuracy')\n",
    "        ax.set_title('models accuracy with {epochs} epochs of training'.format(epochs=Epochs))\n",
    "        ax.set_xlabel('Epochs')\n",
    "        ax.set_ylabel('accuracy')\n",
    "        ax.set_ylim([0,1])\n",
    "        plt.show()\n",
    "        plt.show()\n",
    "        print('plot of the confusion matrix, where the rows represent the real data and the columns the predicted data:')\n",
    "        \n",
    "        # print confusion matrix\n",
    "        cM = self.confusion_matrix(Y_test, Y_pred_test)\n",
    "        print(cM)\n",
    "            "
   ]
  },
  {
   "attachments": {},
   "cell_type": "markdown",
   "metadata": {},
   "source": [
    "# First MLP to train: 4 layers, 10 hidden units"
   ]
  },
  {
   "cell_type": "code",
   "execution_count": 41,
   "metadata": {},
   "outputs": [],
   "source": [
    "named_classes = list(classification_set)\n",
    "myMlp = MLP(data, labels, n_layers = 4, n_hidden_units=10, named_labels=named_classes)"
   ]
  },
  {
   "cell_type": "code",
   "execution_count": 42,
   "metadata": {},
   "outputs": [
    {
     "name": "stdout",
     "output_type": "stream",
     "text": [
      "shape de la media (1, 4)\n",
      "shape de la desviación estandard (1, 4)\n"
     ]
    }
   ],
   "source": [
    "X = mean_normalization(data)\n",
    "Y = labels"
   ]
  },
  {
   "cell_type": "code",
   "execution_count": 43,
   "metadata": {},
   "outputs": [
    {
     "name": "stdout",
     "output_type": "stream",
     "text": [
      "Epoch 100 is train loss: 0.8256407914952355, train accuracy: 0.575\n",
      "Epoch 200 is train loss: 0.6336429806919064, train accuracy: 0.7083333333333334\n",
      "Epoch 300 is train loss: 0.27047314920544047, train accuracy: 0.8833333333333333\n",
      "Epoch 400 is train loss: 0.217552654470145, train accuracy: 0.9083333333333333\n",
      "Epoch 500 is train loss: 0.18921952001104697, train accuracy: 0.9333333333333333\n",
      "Epoch 600 is train loss: 0.1589753754585372, train accuracy: 0.9333333333333333\n",
      "Epoch 700 is train loss: 0.12581730660390347, train accuracy: 0.9416666666666667\n",
      "Epoch 800 is train loss: 0.09173631355483572, train accuracy: 0.9666666666666667\n",
      "Epoch 900 is train loss: 0.06397723879773047, train accuracy: 0.975\n",
      "Trainig is done:\n",
      "the training loss is 0.3495411039375506 and the training accuracy is 0.975\n",
      "the testing loss is 0.16852913962890587 and the testing accuracy is 0.9333333333333333\n"
     ]
    },
    {
     "data": {
      "image/png": "[encoded data removed]",
      "text/plain": [
       "<Figure size 640x480 with 1 Axes>"
      ]
     },
     "metadata": {},
     "output_type": "display_data"
    },
    {
     "data": {
      "image/png": "[encoded data removed]",
      "text/plain": [
       "<Figure size 640x480 with 1 Axes>"
      ]
     },
     "metadata": {},
     "output_type": "display_data"
    },
    {
     "name": "stdout",
     "output_type": "stream",
     "text": [
      "plot of the confusion matrix, where the rows represent the real data and the columns the predicted data:\n",
      "                   Iris-versicolor\\n  Iris-setosa\\n  Iris-virginica\\n\n",
      "Iris-versicolor\\n               11.0            0.0               0.0\n",
      "Iris-setosa\\n                    0.0            4.0               0.0\n",
      "Iris-virginica\\n                 0.0            2.0              13.0\n"
     ]
    }
   ],
   "source": [
    "myMlp.train(X, Y, 900, 0.02)"
   ]
  },
  {
   "attachments": {},
   "cell_type": "markdown",
   "metadata": {},
   "source": [
    "# Second MLP Structure: 5 layers , 7 hidden units:\n",
    "The network is trained over 700 epochs"
   ]
  },
  {
   "cell_type": "code",
   "execution_count": 44,
   "metadata": {},
   "outputs": [
    {
     "name": "stdout",
     "output_type": "stream",
     "text": [
      "Epoch 100 is train loss: 0.9056886770670808, train accuracy: 0.5666666666666667\n",
      "Epoch 200 is train loss: 0.6908632691083307, train accuracy: 0.6833333333333333\n",
      "Epoch 300 is train loss: 0.4996584893360055, train accuracy: 0.7666666666666667\n",
      "Epoch 400 is train loss: 0.5056398042138862, train accuracy: 0.75\n",
      "Epoch 500 is train loss: 0.4826180019435005, train accuracy: 0.7583333333333333\n",
      "Epoch 600 is train loss: 0.46055643871823065, train accuracy: 0.7666666666666667\n",
      "Epoch 700 is train loss: 0.44851777308281987, train accuracy: 0.7916666666666666\n",
      "Trainig is done:\n",
      "the training loss is 0.6245455297211667 and the training accuracy is 0.7916666666666666\n",
      "the testing loss is 0.2742078054157633 and the testing accuracy is 0.8\n"
     ]
    },
    {
     "data": {
      "image/png": "[encoded data removed]",
      "text/plain": [
       "<Figure size 640x480 with 1 Axes>"
      ]
     },
     "metadata": {},
     "output_type": "display_data"
    },
    {
     "data": {
      "image/png": "[encoded data removed]",
      "text/plain": [
       "<Figure size 640x480 with 1 Axes>"
      ]
     },
     "metadata": {},
     "output_type": "display_data"
    },
    {
     "name": "stdout",
     "output_type": "stream",
     "text": [
      "plot of the confusion matrix, where the rows represent the real data and the columns the predicted data:\n",
      "                   Iris-versicolor\\n  Iris-setosa\\n  Iris-virginica\\n\n",
      "Iris-versicolor\\n                5.0            6.0               0.0\n",
      "Iris-setosa\\n                    0.0            6.0               0.0\n",
      "Iris-virginica\\n                 0.0            0.0              13.0\n"
     ]
    }
   ],
   "source": [
    "myMlp2 = MLP(data, labels, n_layers = 3, n_hidden_units=15, named_labels=named_classes, activation='relu')\n",
    "myMlp2.train(X, Y, 700, 0.04)"
   ]
  },
  {
   "cell_type": "code",
   "execution_count": null,
   "metadata": {},
   "outputs": [],
   "source": []
  }
 ],
 "metadata": {
  "kernelspec": {
   "display_name": "Python 3",
   "language": "python",
   "name": "python3"
  },
  "language_info": {
   "codemirror_mode": {
    "name": "ipython",
    "version": 3
   },
   "file_extension": ".py",
   "mimetype": "text/x-python",
   "name": "python",
   "nbconvert_exporter": "python",
   "pygments_lexer": "ipython3",
   "version": "3.8.16"
  }
 },
 "nbformat": 4,
 "nbformat_minor": 4
}
